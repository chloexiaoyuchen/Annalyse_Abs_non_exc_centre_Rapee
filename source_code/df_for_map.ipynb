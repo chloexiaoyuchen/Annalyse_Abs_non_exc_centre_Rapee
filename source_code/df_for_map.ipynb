{
 "cells": [
  {
   "cell_type": "code",
   "execution_count": 5,
   "metadata": {},
   "outputs": [],
   "source": [
    "import pandas as pd\n",
    "import openpyxl"
   ]
  },
  {
   "cell_type": "code",
   "execution_count": 6,
   "metadata": {},
   "outputs": [
    {
     "name": "stderr",
     "output_type": "stream",
     "text": [
      "/tmp/ipykernel_55534/2237332865.py:1: DtypeWarning: Columns (45,46,47,48,49,50) have mixed types. Specify dtype option on import or set low_memory=False.\n",
      "  df3 = pd.read_csv('../données_brut/export_rdv_2023-01-01-2023-12-31.csv', sep=';')\n"
     ]
    }
   ],
   "source": [
    "df3 = pd.read_csv('../données_brut/export_rdv_2023-01-01-2023-12-31.csv', sep=';')\n",
    "df3['Age'] = 2024 - pd.to_datetime(df3['Date de naissance']).dt.year\n",
    "new_df = pd.DataFrame({'Code_postal': df3['Code postal'], 'Statut': df3['Statut'], \n",
    "                       'Motif du RDV': df3['Motif du RDV'], 'Age': df3['Age'], 'Id': df3['Doctolib Patient ID']})\n",
    "day_map = {\n",
    "    'Absent excusé': 'Absent excusé',\n",
    "    'Absent non excusé': 'Absent non excusé',\n",
    "    'Vu' : 'Présent',\n",
    "    'À déplacer': 'Absent excusé',\n",
    "    'À venir': 'Absent non excusé',\n",
    "    'En attente': 'Présent',\n",
    "    'En consultation': 'Présent'    \n",
    "}\n",
    "new_df['Statut'] = new_df['Statut'].map(day_map)"
   ]
  },
  {
   "cell_type": "code",
   "execution_count": 7,
   "metadata": {},
   "outputs": [
    {
     "data": {
      "text/html": [
       "<div>\n",
       "<style scoped>\n",
       "    .dataframe tbody tr th:only-of-type {\n",
       "        vertical-align: middle;\n",
       "    }\n",
       "\n",
       "    .dataframe tbody tr th {\n",
       "        vertical-align: top;\n",
       "    }\n",
       "\n",
       "    .dataframe thead th {\n",
       "        text-align: right;\n",
       "    }\n",
       "</style>\n",
       "<table border=\"1\" class=\"dataframe\">\n",
       "  <thead>\n",
       "    <tr style=\"text-align: right;\">\n",
       "      <th></th>\n",
       "      <th>Code_postal</th>\n",
       "      <th>Statut</th>\n",
       "      <th>Motif du RDV</th>\n",
       "      <th>Age</th>\n",
       "      <th>Id</th>\n",
       "    </tr>\n",
       "  </thead>\n",
       "  <tbody>\n",
       "    <tr>\n",
       "      <th>0</th>\n",
       "      <td>35740</td>\n",
       "      <td>Absent excusé</td>\n",
       "      <td>Adulte - Consultation de médecine générale</td>\n",
       "      <td>26.0</td>\n",
       "      <td>1733349697</td>\n",
       "    </tr>\n",
       "    <tr>\n",
       "      <th>1</th>\n",
       "      <td>75013</td>\n",
       "      <td>Présent</td>\n",
       "      <td>Première consultation de gynécologie</td>\n",
       "      <td>34.0</td>\n",
       "      <td>2518302311</td>\n",
       "    </tr>\n",
       "    <tr>\n",
       "      <th>2</th>\n",
       "      <td>92100</td>\n",
       "      <td>Présent</td>\n",
       "      <td>Consultation de suivi d'allergologie</td>\n",
       "      <td>29.0</td>\n",
       "      <td>2435238586</td>\n",
       "    </tr>\n",
       "    <tr>\n",
       "      <th>3</th>\n",
       "      <td>93300</td>\n",
       "      <td>Présent</td>\n",
       "      <td>Urgence</td>\n",
       "      <td>31.0</td>\n",
       "      <td>2518370353</td>\n",
       "    </tr>\n",
       "    <tr>\n",
       "      <th>4</th>\n",
       "      <td>75013</td>\n",
       "      <td>Absent excusé</td>\n",
       "      <td>Adulte - Consultation de médecine générale</td>\n",
       "      <td>34.0</td>\n",
       "      <td>2053339522</td>\n",
       "    </tr>\n",
       "  </tbody>\n",
       "</table>\n",
       "</div>"
      ],
      "text/plain": [
       "  Code_postal         Statut                                Motif du RDV  \\\n",
       "0       35740  Absent excusé  Adulte - Consultation de médecine générale   \n",
       "1       75013        Présent        Première consultation de gynécologie   \n",
       "2       92100        Présent        Consultation de suivi d'allergologie   \n",
       "3       93300        Présent                                     Urgence   \n",
       "4       75013  Absent excusé  Adulte - Consultation de médecine générale   \n",
       "\n",
       "    Age          Id  \n",
       "0  26.0  1733349697  \n",
       "1  34.0  2518302311  \n",
       "2  29.0  2435238586  \n",
       "3  31.0  2518370353  \n",
       "4  34.0  2053339522  "
      ]
     },
     "execution_count": 7,
     "metadata": {},
     "output_type": "execute_result"
    }
   ],
   "source": [
    "new_df.head()"
   ]
  },
  {
   "cell_type": "code",
   "execution_count": 46,
   "metadata": {},
   "outputs": [],
   "source": [
    "df = new_df"
   ]
  },
  {
   "cell_type": "code",
   "execution_count": 48,
   "metadata": {},
   "outputs": [],
   "source": [
    "import pandas as pd\n",
    "\n",
    "\n",
    "# Calcul du taux de Absent excusé\n",
    "df['Absent_non_excuse'] = df['Statut'] == 'Absent non excusé'\n",
    "\n",
    "# Calcul du taux\n",
    "df['Psych'] = df['Motif du RDV'].str.contains(\"psychiatrie\")\n",
    "\n",
    "# GroupBy Code_postal et calcul des métriques\n",
    "grouped = df.groupby('Code_postal').agg(\n",
    "    taux_absent_non_excuse=('Absent_non_excuse', 'mean'),\n",
    "    taux_Psych=('Psych', 'mean'),\n",
    "    age_moyen=('Age', 'mean'),\n",
    "    count=('Code_postal', 'size')\n",
    ").reset_index()\n",
    "\n",
    "grouped2 = df.groupby('Id').agg(\n",
    "    Code_postal=('Code_postal', 'first'),\n",
    "    taux_absent_non_excuse=('Absent_non_excuse', 'mean'),\n",
    "    taux_Psych=('Psych', 'mean'),\n",
    "    age_moyen=('Age', 'mean'),\n",
    ").reset_index()\n",
    "\n",
    "grouped22 = grouped2.groupby('Code_postal').agg(\n",
    "    taux_absent_non_excuse=('taux_absent_non_excuse', 'mean'),\n",
    "    taux_Psych=('taux_Psych', 'mean'),\n",
    "    age_moyen=('age_moyen', 'mean'),\n",
    "    count=('Code_postal', 'size')\n",
    ").reset_index()\n",
    "\n",
    "grouped = grouped[grouped['count'] > 3]\n",
    "grouped22 = grouped22[grouped22['count'] > 3]\n"
   ]
  },
  {
   "cell_type": "code",
   "execution_count": 49,
   "metadata": {},
   "outputs": [
    {
     "name": "stdout",
     "output_type": "stream",
     "text": [
      "     Code_postal  taux_absent_non_excuse  age_moyen  count\n",
      "796        75001                0.075758  29.272727     66\n",
      "797        75002                0.037736  32.320755     53\n",
      "798        75003                0.068966  34.448276    116\n",
      "799        75004                0.067548  34.459380    681\n",
      "800        75005                0.090639  33.671664    673\n",
      "...          ...                     ...        ...    ...\n",
      "1324       94520                0.400000  35.400000      5\n",
      "1325       94550                0.241379  32.379310     29\n",
      "1326       94600                0.111111  33.320988     81\n",
      "1327       94700                0.065574  39.344262    122\n",
      "1328       94800                0.078049  34.497561    205\n",
      "\n",
      "[139 rows x 4 columns]\n",
      "     Code_postal  taux_absent_non_excuse  age_moyen  count\n",
      "796        75001                0.052294  32.394737     38\n",
      "797        75002                0.036585  32.073171     41\n",
      "798        75003                0.067647  33.588235     85\n",
      "799        75004                0.068648  33.353808    408\n",
      "800        75005                0.097449  33.696970    463\n",
      "...          ...                     ...        ...    ...\n",
      "1324       94520                0.400000  35.400000      5\n",
      "1325       94550                0.228070  33.842105     19\n",
      "1326       94600                0.145455  33.254545     55\n",
      "1327       94700                0.078125  39.656250     96\n",
      "1328       94800                0.090240  33.358779    131\n",
      "\n",
      "[137 rows x 4 columns]\n"
     ]
    }
   ],
   "source": [
    "grouped = grouped[grouped['Code_postal'].astype(str).str.startswith(('75', '94', '93', '92'))].drop('taux_Psych', axis=1)\n",
    "grouped22 = grouped22[grouped22['Code_postal'].astype(str).str.startswith(('75', '94', '93', '92'))].drop('taux_Psych', axis=1)\n",
    "\n",
    "print(grouped)\n",
    "print(grouped22)"
   ]
  },
  {
   "cell_type": "code",
   "execution_count": 50,
   "metadata": {},
   "outputs": [],
   "source": [
    "grouped.to_csv(\"../donnees_nettroye/2023_code_post_gener_per_rdv.csv\", index=False)\n",
    "grouped22.to_csv(\"../donnees_nettroye/2023_code_post_gener_per_patient.csv\", index=False)"
   ]
  },
  {
   "cell_type": "code",
   "execution_count": 51,
   "metadata": {},
   "outputs": [
    {
     "data": {
      "text/html": [
       "<div>\n",
       "<style scoped>\n",
       "    .dataframe tbody tr th:only-of-type {\n",
       "        vertical-align: middle;\n",
       "    }\n",
       "\n",
       "    .dataframe tbody tr th {\n",
       "        vertical-align: top;\n",
       "    }\n",
       "\n",
       "    .dataframe thead th {\n",
       "        text-align: right;\n",
       "    }\n",
       "</style>\n",
       "<table border=\"1\" class=\"dataframe\">\n",
       "  <thead>\n",
       "    <tr style=\"text-align: right;\">\n",
       "      <th></th>\n",
       "      <th>Code_postal</th>\n",
       "      <th>taux_absent_non_excuse</th>\n",
       "      <th>age_moyen</th>\n",
       "      <th>count</th>\n",
       "    </tr>\n",
       "  </thead>\n",
       "  <tbody>\n",
       "    <tr>\n",
       "      <th>796</th>\n",
       "      <td>75001</td>\n",
       "      <td>0.052294</td>\n",
       "      <td>32.394737</td>\n",
       "      <td>38</td>\n",
       "    </tr>\n",
       "    <tr>\n",
       "      <th>797</th>\n",
       "      <td>75002</td>\n",
       "      <td>0.036585</td>\n",
       "      <td>32.073171</td>\n",
       "      <td>41</td>\n",
       "    </tr>\n",
       "    <tr>\n",
       "      <th>798</th>\n",
       "      <td>75003</td>\n",
       "      <td>0.067647</td>\n",
       "      <td>33.588235</td>\n",
       "      <td>85</td>\n",
       "    </tr>\n",
       "    <tr>\n",
       "      <th>799</th>\n",
       "      <td>75004</td>\n",
       "      <td>0.068648</td>\n",
       "      <td>33.353808</td>\n",
       "      <td>408</td>\n",
       "    </tr>\n",
       "    <tr>\n",
       "      <th>800</th>\n",
       "      <td>75005</td>\n",
       "      <td>0.097449</td>\n",
       "      <td>33.696970</td>\n",
       "      <td>463</td>\n",
       "    </tr>\n",
       "  </tbody>\n",
       "</table>\n",
       "</div>"
      ],
      "text/plain": [
       "    Code_postal  taux_absent_non_excuse  age_moyen  count\n",
       "796       75001                0.052294  32.394737     38\n",
       "797       75002                0.036585  32.073171     41\n",
       "798       75003                0.067647  33.588235     85\n",
       "799       75004                0.068648  33.353808    408\n",
       "800       75005                0.097449  33.696970    463"
      ]
     },
     "execution_count": 51,
     "metadata": {},
     "output_type": "execute_result"
    }
   ],
   "source": [
    "grouped.head()\n",
    "\n",
    "grouped22.head()"
   ]
  },
  {
   "cell_type": "code",
   "execution_count": 52,
   "metadata": {},
   "outputs": [
    {
     "data": {
      "text/html": [
       "<div>\n",
       "<style scoped>\n",
       "    .dataframe tbody tr th:only-of-type {\n",
       "        vertical-align: middle;\n",
       "    }\n",
       "\n",
       "    .dataframe tbody tr th {\n",
       "        vertical-align: top;\n",
       "    }\n",
       "\n",
       "    .dataframe thead th {\n",
       "        text-align: right;\n",
       "    }\n",
       "</style>\n",
       "<table border=\"1\" class=\"dataframe\">\n",
       "  <thead>\n",
       "    <tr style=\"text-align: right;\">\n",
       "      <th></th>\n",
       "      <th>Code_postal</th>\n",
       "      <th>taux_absent_non_excuse</th>\n",
       "      <th>age_moyen</th>\n",
       "      <th>count</th>\n",
       "    </tr>\n",
       "  </thead>\n",
       "  <tbody>\n",
       "    <tr>\n",
       "      <th>796</th>\n",
       "      <td>75001</td>\n",
       "      <td>0.075758</td>\n",
       "      <td>29.272727</td>\n",
       "      <td>66</td>\n",
       "    </tr>\n",
       "    <tr>\n",
       "      <th>797</th>\n",
       "      <td>75002</td>\n",
       "      <td>0.037736</td>\n",
       "      <td>32.320755</td>\n",
       "      <td>53</td>\n",
       "    </tr>\n",
       "    <tr>\n",
       "      <th>798</th>\n",
       "      <td>75003</td>\n",
       "      <td>0.068966</td>\n",
       "      <td>34.448276</td>\n",
       "      <td>116</td>\n",
       "    </tr>\n",
       "    <tr>\n",
       "      <th>799</th>\n",
       "      <td>75004</td>\n",
       "      <td>0.067548</td>\n",
       "      <td>34.459380</td>\n",
       "      <td>681</td>\n",
       "    </tr>\n",
       "    <tr>\n",
       "      <th>800</th>\n",
       "      <td>75005</td>\n",
       "      <td>0.090639</td>\n",
       "      <td>33.671664</td>\n",
       "      <td>673</td>\n",
       "    </tr>\n",
       "  </tbody>\n",
       "</table>\n",
       "</div>"
      ],
      "text/plain": [
       "    Code_postal  taux_absent_non_excuse  age_moyen  count\n",
       "796       75001                0.075758  29.272727     66\n",
       "797       75002                0.037736  32.320755     53\n",
       "798       75003                0.068966  34.448276    116\n",
       "799       75004                0.067548  34.459380    681\n",
       "800       75005                0.090639  33.671664    673"
      ]
     },
     "execution_count": 52,
     "metadata": {},
     "output_type": "execute_result"
    }
   ],
   "source": [
    "grouped.head()"
   ]
  }
 ],
 "metadata": {
  "kernelspec": {
   "display_name": "Python 3",
   "language": "python",
   "name": "python3"
  },
  "language_info": {
   "codemirror_mode": {
    "name": "ipython",
    "version": 3
   },
   "file_extension": ".py",
   "mimetype": "text/x-python",
   "name": "python",
   "nbconvert_exporter": "python",
   "pygments_lexer": "ipython3",
   "version": "3.10.13"
  }
 },
 "nbformat": 4,
 "nbformat_minor": 2
}
